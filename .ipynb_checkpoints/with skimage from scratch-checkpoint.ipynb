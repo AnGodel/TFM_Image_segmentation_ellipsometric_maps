{
 "cells": [
  {
   "cell_type": "markdown",
   "id": "5dc05323-6205-4bc4-92d5-528120ac1893",
   "metadata": {},
   "source": [
    "## Setting the path for test images"
   ]
  },
  {
   "cell_type": "code",
   "execution_count": 1,
   "id": "09a7c8fd-e506-4b38-825a-6babe7eb6239",
   "metadata": {},
   "outputs": [],
   "source": [
    "graphene_path = './data_demo/Flakesearch_Graphene_20180214175340935_087.png'\n",
    "RCE_path = './data_demo/RCEvase/RCEvase_1zn_MapON_ScanON_AeON_FuE_2_Delta_0001.png'"
   ]
  },
  {
   "cell_type": "markdown",
   "id": "2c81a581-9797-4e8a-9bf4-b3628999c083",
   "metadata": {},
   "source": [
    "## Import libraries and modules"
   ]
  },
  {
   "cell_type": "code",
   "execution_count": 2,
   "id": "62f74b11-7c96-4c41-a028-7f5fff71b470",
   "metadata": {},
   "outputs": [],
   "source": [
    "import numpy as np\n",
    "import matplotlib.pyplot as plt\n",
    "from skimage import data, img_as_float\n",
    "from skimage.segmentation import (morphological_chan_vese,\n",
    "                                  morphological_geodesic_active_contour,\n",
    "                                  inverse_gaussian_gradient,\n",
    "                                  checkerboard_level_set)\n",
    "from nanofilm.ndimage import imread\n",
    "import numpy.ma as ma\n",
    "\n",
    "from skimage.feature import canny\n",
    "\n"
   ]
  },
  {
   "cell_type": "markdown",
   "id": "b344242b-1747-43d7-a7b8-e97d07ee1a41",
   "metadata": {},
   "source": [
    "### Read map image and clean NaNs"
   ]
  },
  {
   "cell_type": "code",
   "execution_count": 3,
   "id": "acd10cee-0223-4968-abc3-f5e16a68b160",
   "metadata": {},
   "outputs": [],
   "source": [
    "def map_load_cleannans(image, fill_value=0, copy=False):\n",
    "    #input diferent fill_value, like np.mean(image) or np.median(image)\n",
    "    #overrides the values in input image. Returned image is only a masked array\n",
    "    image = imread(image).T\n",
    "    \n",
    "    image = ma.fix_invalid(image,\n",
    "                           copy=copy, \n",
    "                           fill_value=fill_value)\n",
    "    return image"
   ]
  },
  {
   "cell_type": "code",
   "execution_count": 4,
   "id": "685baacb-0cea-4652-86d8-358ccd0e0147",
   "metadata": {},
   "outputs": [],
   "source": [
    "grapheneRaw = imread(graphene_path).T\n",
    "grapheneZeros = map_load_cleannans(graphene_path)\n",
    "grapheneMedian = map_load_cleannans(graphene_path, \n",
    "                                    fill_value=np.nanmedian(grapheneRaw))"
   ]
  },
  {
   "cell_type": "code",
   "execution_count": 5,
   "id": "2485e21f-26f3-4334-9cb0-bbf0c5545780",
   "metadata": {},
   "outputs": [],
   "source": [
    "RECtestRaw = imread(RCE_path).T\n",
    "RCEtestZeros = map_load_cleannans(RCE_path)\n",
    "RCEtestMedian = map_load_cleannans(RCE_path, \n",
    "                                    fill_value=np.nanmedian(RECtestRaw))"
   ]
  },
  {
   "cell_type": "markdown",
   "id": "61c5474e-b54a-42d2-8101-d4b9ce9fbbcd",
   "metadata": {},
   "source": [
    "### Retrieving min and max values of the image to set the display contrast"
   ]
  },
  {
   "cell_type": "code",
   "execution_count": 7,
   "id": "827e976b-7632-4461-935d-7ec36e720fea",
   "metadata": {},
   "outputs": [
    {
     "data": {
      "text/plain": [
       "267.76425"
      ]
     },
     "execution_count": 7,
     "metadata": {},
     "output_type": "execute_result"
    }
   ],
   "source": [
    "np.max(grapheneMedian)"
   ]
  }
 ],
 "metadata": {
  "kernelspec": {
   "display_name": "Python 3",
   "language": "python",
   "name": "python3"
  },
  "language_info": {
   "codemirror_mode": {
    "name": "ipython",
    "version": 3
   },
   "file_extension": ".py",
   "mimetype": "text/x-python",
   "name": "python",
   "nbconvert_exporter": "python",
   "pygments_lexer": "ipython3",
   "version": "3.8.10"
  }
 },
 "nbformat": 4,
 "nbformat_minor": 5
}
