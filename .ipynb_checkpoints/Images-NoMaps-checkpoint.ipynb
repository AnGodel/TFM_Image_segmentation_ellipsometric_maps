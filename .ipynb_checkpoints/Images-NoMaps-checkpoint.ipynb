{
 "cells": [
  {
   "cell_type": "code",
   "execution_count": 2,
   "id": "8fc68e5f-c982-4d6b-81b6-8bf0248a1d6b",
   "metadata": {},
   "outputs": [],
   "source": [
    "%load_ext autoreload\n",
    "%autoreload 2\n",
    "#this will reload all changed modules every time before executing a new line"
   ]
  },
  {
   "cell_type": "code",
   "execution_count": 18,
   "id": "3b04aa61-ab11-4ef8-84ec-2bbd95c18606",
   "metadata": {},
   "outputs": [],
   "source": [
    "import numpy as np\n",
    "import matplotlib.pyplot as plt\n",
    "from nanofilm.ndimage import imread\n",
    "import MyPacket.mypacket as mp"
   ]
  },
  {
   "cell_type": "markdown",
   "id": "cfb26c62-21b4-4631-906f-3a5806a5bec8",
   "metadata": {},
   "source": [
    "# With different image (no maps)"
   ]
  },
  {
   "cell_type": "code",
   "execution_count": 6,
   "id": "0707fd5b-5644-4a4b-bc52-820cccf088da",
   "metadata": {},
   "outputs": [],
   "source": [
    "SiGraphPaht = './data_demo/UK_Cambridge_Si_20160715165132568.png'\n",
    "hBNpath = './data_demo/image-hBN_20160406141308942.png'"
   ]
  },
  {
   "cell_type": "code",
   "execution_count": 21,
   "id": "7dafe8e7-af73-4659-b306-0b6152c223ad",
   "metadata": {},
   "outputs": [
    {
     "name": "stdout",
     "output_type": "stream",
     "text": [
      "image name:  \n",
      "type: <class 'numpy.ndarray'>\n",
      "shape: (688, 520)\n",
      "data type: uint16\n",
      "width: 520\n",
      "height: 688\n",
      "image size: 357760 pixels\n",
      "empty pixels: 0\n",
      "full pixels: 357760\n",
      "\n",
      "\n"
     ]
    }
   ],
   "source": [
    "SiGraph = imread(SiGraphPaht)\n",
    "mp.printImageData(SiGraph)"
   ]
  },
  {
   "cell_type": "code",
   "execution_count": 4,
   "id": "b60a70aa-bfcd-4b6e-bb4c-51690ab0a15c",
   "metadata": {},
   "outputs": [
    {
     "ename": "NameError",
     "evalue": "name 'mp' is not defined",
     "output_type": "error",
     "traceback": [
      "\u001b[1;31m---------------------------------------------------------------------------\u001b[0m",
      "\u001b[1;31mNameError\u001b[0m                                 Traceback (most recent call last)",
      "\u001b[1;32m<ipython-input-4-8b60e4a3ae01>\u001b[0m in \u001b[0;36m<module>\u001b[1;34m\u001b[0m\n\u001b[1;32m----> 1\u001b[1;33m \u001b[0mmp\u001b[0m\u001b[1;33m.\u001b[0m\u001b[0mplot_image_withCbar\u001b[0m\u001b[1;33m(\u001b[0m\u001b[0mSiGraph\u001b[0m\u001b[1;33m)\u001b[0m\u001b[1;33m\u001b[0m\u001b[1;33m\u001b[0m\u001b[0m\n\u001b[0m",
      "\u001b[1;31mNameError\u001b[0m: name 'mp' is not defined"
     ]
    }
   ],
   "source": [
    "mp.plot_image_withCbar(SiGraph)"
   ]
  },
  {
   "cell_type": "code",
   "execution_count": 5,
   "id": "5ef5bcc2-ef84-424c-aac6-809d35189a43",
   "metadata": {},
   "outputs": [
    {
     "ename": "NameError",
     "evalue": "name 'plt' is not defined",
     "output_type": "error",
     "traceback": [
      "\u001b[1;31m---------------------------------------------------------------------------\u001b[0m",
      "\u001b[1;31mNameError\u001b[0m                                 Traceback (most recent call last)",
      "\u001b[1;32m<ipython-input-5-b24f9e4d5456>\u001b[0m in \u001b[0;36m<module>\u001b[1;34m\u001b[0m\n\u001b[1;32m----> 1\u001b[1;33m \u001b[0mplt\u001b[0m\u001b[1;33m.\u001b[0m\u001b[0mimshow\u001b[0m\u001b[1;33m(\u001b[0m\u001b[0mSiGraphPaht\u001b[0m\u001b[1;33m)\u001b[0m\u001b[1;33m\u001b[0m\u001b[1;33m\u001b[0m\u001b[0m\n\u001b[0m",
      "\u001b[1;31mNameError\u001b[0m: name 'plt' is not defined"
     ]
    }
   ],
   "source": [
    "plt.imshow(SiGraphPaht)"
   ]
  },
  {
   "cell_type": "markdown",
   "id": "a4869277-95f6-4668-9881-9bb5fd911d67",
   "metadata": {},
   "source": [
    "### The images (not maps) from nanofilm are uint16, which makes:\n",
    "- reading them with imread transforms the values somehow to a value with no meaning and in absurd scale. \n",
    "- plt.imshow can't read them directly, showing the error: TypeError: Image data of dtype <U49 cannot be converted to float\n",
    "- cv2.imread will read them only specifying the flag 0, which will load the image directly in grayscale mode"
   ]
  },
  {
   "cell_type": "code",
   "execution_count": 7,
   "id": "cb279791-5595-433a-83e0-d387b66664e1",
   "metadata": {},
   "outputs": [],
   "source": [
    "import cv2"
   ]
  },
  {
   "cell_type": "code",
   "execution_count": 8,
   "id": "38f803f8-720e-4701-bc02-0c26f61a2252",
   "metadata": {},
   "outputs": [],
   "source": [
    "SiG = cv2.imread(SiGraphPaht, 0)\n",
    "cv2.imshow('test', SiG)"
   ]
  }
 ],
 "metadata": {
  "kernelspec": {
   "display_name": "Python 3",
   "language": "python",
   "name": "python3"
  },
  "language_info": {
   "codemirror_mode": {
    "name": "ipython",
    "version": 3
   },
   "file_extension": ".py",
   "mimetype": "text/x-python",
   "name": "python",
   "nbconvert_exporter": "python",
   "pygments_lexer": "ipython3",
   "version": "3.8.10"
  }
 },
 "nbformat": 4,
 "nbformat_minor": 5
}
